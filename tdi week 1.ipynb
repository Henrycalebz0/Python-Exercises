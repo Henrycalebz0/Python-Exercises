{
 "cells": [
  {
   "cell_type": "code",
   "execution_count": 1,
   "id": "fd4061e5-93cb-4d58-8b4e-9c203de5768d",
   "metadata": {},
   "outputs": [
    {
     "name": "stdout",
     "output_type": "stream",
     "text": [
      "30.5\n"
     ]
    }
   ],
   "source": [
    "#add two variables\n",
    "\n",
    "x = 10\n",
    "y = 20.5\n",
    "\n",
    "sum = x + y\n",
    "print(sum)"
   ]
  },
  {
   "cell_type": "code",
   "execution_count": 2,
   "id": "3f680c9c-e25f-4738-8418-b75ad216562f",
   "metadata": {},
   "outputs": [
    {
     "name": "stdout",
     "output_type": "stream",
     "text": [
      "17\n"
     ]
    }
   ],
   "source": [
    "#check string length\n",
    "\n",
    "name = 'Henry Chukwumaeze'\n",
    "\n",
    "print(len(name))"
   ]
  },
  {
   "cell_type": "code",
   "execution_count": 3,
   "id": "3d0b0d68-94ac-489e-8465-9f1630d4755b",
   "metadata": {},
   "outputs": [
    {
     "name": "stdout",
     "output_type": "stream",
     "text": [
      "15\n"
     ]
    }
   ],
   "source": [
    "#function to calculate area\n",
    "\n",
    "def calculate_area(l, w): \n",
    "    area = l * w\n",
    "    return area\n",
    "print(calculate_area(5, 3))"
   ]
  },
  {
   "cell_type": "code",
   "execution_count": 12,
   "id": "dc4962ec-13db-484d-8c56-8f910e467b0a",
   "metadata": {},
   "outputs": [
    {
     "name": "stdout",
     "output_type": "stream",
     "text": [
      "division = 3.3333333333333335 and modulus = 1\n"
     ]
    }
   ],
   "source": [
    "#function to calculate integer division and modulus operation\n",
    "\n",
    "def integer_and_modulus_operation(a, b):\n",
    "    division = a / b\n",
    "    modulus = a % b\n",
    "    print(f'division = {division} and modulus = {modulus}')\n",
    "\n",
    "integer_and_modulus_operation(10,3)"
   ]
  },
  {
   "cell_type": "code",
   "execution_count": 14,
   "id": "736024cc-0026-4e17-8c9f-29e146f68231",
   "metadata": {},
   "outputs": [
    {
     "name": "stdout",
     "output_type": "stream",
     "text": [
      "division = 3.75 and modulus = 3\n"
     ]
    }
   ],
   "source": [
    "#arithmetic operations\n",
    "a = 15\n",
    "b = 4\n",
    "division = a / b\n",
    "modulus = a % b\n",
    "print(f'division = {division} and modulus = {modulus}')"
   ]
  },
  {
   "cell_type": "code",
   "execution_count": 19,
   "id": "060cb21a-cb86-441d-b5f8-bea7e4bb14d8",
   "metadata": {},
   "outputs": [
    {
     "name": "stdin",
     "output_type": "stream",
     "text": [
      "Enter your age: 66\n"
     ]
    },
    {
     "name": "stdout",
     "output_type": "stream",
     "text": [
      "Not an adult\n"
     ]
    }
   ],
   "source": [
    "#age comparison\n",
    "\n",
    "age = int(input('Enter your age:'))\n",
    "\n",
    "if (age > 18) and (age < 65):\n",
    "    print('Adult')\n",
    "else:\n",
    "    print('Not an adult')"
   ]
  },
  {
   "cell_type": "code",
   "execution_count": 20,
   "id": "39233231-53ee-4b31-b5eb-9cf6038b5b29",
   "metadata": {},
   "outputs": [
    {
     "name": "stdout",
     "output_type": "stream",
     "text": [
      "Num1 and Num2 are not equal numbers\n"
     ]
    }
   ],
   "source": [
    "#Comparison operation\n",
    "num1 = 12\n",
    "num2 = 15\n",
    "\n",
    "if num1 != num2:\n",
    "    print('Num1 and Num2 are not equal numbers')\n",
    "else: \n",
    "    print('Num1 and Num2 are equal numbers')"
   ]
  },
  {
   "cell_type": "code",
   "execution_count": 29,
   "id": "0619ec7f-f486-41a9-b3ba-5f8d6705c5d7",
   "metadata": {},
   "outputs": [
    {
     "name": "stdin",
     "output_type": "stream",
     "text": [
      "Enter a number:  -1\n"
     ]
    },
    {
     "name": "stdout",
     "output_type": "stream",
     "text": [
      "Not a positive number\n"
     ]
    }
   ],
   "source": [
    "Number = int(input('Enter a number: '))\n",
    "\n",
    "def is_even_and_positive(number):\n",
    "    if number >= 0:\n",
    "        if number == 0:\n",
    "            print('Zero')\n",
    "        elif (number % 2) == 0:\n",
    "            print('True')\n",
    "        else:\n",
    "            print('False')\n",
    "    else:\n",
    "        print('Not a positive number')\n",
    "\n",
    "is_even_and_positive(Number)"
   ]
  },
  {
   "cell_type": "code",
   "execution_count": 36,
   "id": "100b41cb-07a0-49ef-921b-e391d2fab843",
   "metadata": {},
   "outputs": [
    {
     "name": "stdout",
     "output_type": "stream",
     "text": [
      "AND OPERATION: False\n",
      "OR OPERATION: True\n"
     ]
    }
   ],
   "source": [
    "# logical operation\n",
    "\n",
    "x = True\n",
    "y = False\n",
    "\n",
    "print('AND OPERATION: ' + str((x == y) and (x != y)))\n",
    "print('OR OPERATION: ' + str((x == y) or (x != y)))"
   ]
  },
  {
   "cell_type": "code",
   "execution_count": 38,
   "id": "e70db470-1d80-4f27-9e2c-f13c034ecd47",
   "metadata": {},
   "outputs": [
    {
     "name": "stdout",
     "output_type": "stream",
     "text": [
      "Hello, Henry\n"
     ]
    }
   ],
   "source": [
    "#Functions\n",
    "\n",
    "def greet(name):\n",
    "    print(f'Hello, {name}')\n",
    "\n",
    "greet('Henry')"
   ]
  },
  {
   "cell_type": "code",
   "execution_count": 2,
   "id": "42274cbd-a317-4c8c-96c0-63b892850ebc",
   "metadata": {},
   "outputs": [
    {
     "name": "stdout",
     "output_type": "stream",
     "text": [
      "max number is 9\n"
     ]
    }
   ],
   "source": [
    "#function to calculate highest number\n",
    "numbers = [3, 7, 2, 5, 9]\n",
    "\n",
    "def find_max(number):\n",
    "    for i, value in enumerate(number):\n",
    "        if value == max(number):\n",
    "            max_num = value\n",
    "            print(f'max number is {max_num}')\n",
    "\n",
    "find_max(numbers)"
   ]
  },
  {
   "cell_type": "code",
   "execution_count": 1,
   "id": "f88c87a9-c663-41ae-add6-100008de1c20",
   "metadata": {},
   "outputs": [
    {
     "name": "stdout",
     "output_type": "stream",
     "text": [
      "<class 'list'>\n"
     ]
    }
   ],
   "source": [
    "#variable type\n",
    "\n",
    "x = [1, 2, 3]\n",
    "\n",
    "print(type(x))"
   ]
  },
  {
   "cell_type": "code",
   "execution_count": 3,
   "id": "fa5943da-127d-492e-94e4-3b29b9ddede7",
   "metadata": {},
   "outputs": [
    {
     "name": "stdout",
     "output_type": "stream",
     "text": [
      "[1, 2, 4, 9]\n"
     ]
    }
   ],
   "source": [
    "# sorting list\n",
    "numbers = [4, 2, 9, 1]\n",
    "\n",
    "sorted_list = sorted(numbers)\n",
    "\n",
    "print(sorted_list)"
   ]
  },
  {
   "cell_type": "code",
   "execution_count": 9,
   "id": "fc114b9f-1aaa-4fb5-9cf5-841c0a10fed3",
   "metadata": {},
   "outputs": [
    {
     "name": "stdout",
     "output_type": "stream",
     "text": [
      "The discounted price is 85.0\n"
     ]
    }
   ],
   "source": [
    "# calculate discount\n",
    "def calculate_discount(price, discount):\n",
    "    discounted_price = price - (discount/100 * price)\n",
    "    print(f'The discounted price is {discounted_price}')\n",
    "\n",
    "calculate_discount(100, 15)"
   ]
  },
  {
   "cell_type": "code",
   "execution_count": 16,
   "id": "bbd9a23a-da36-4b3d-a10c-2877cd908b3e",
   "metadata": {},
   "outputs": [
    {
     "name": "stdin",
     "output_type": "stream",
     "text": [
      "Enter your age:  2\n"
     ]
    },
    {
     "name": "stdout",
     "output_type": "stream",
     "text": [
      "You are a minor\n"
     ]
    }
   ],
   "source": [
    "#age comparison 2\n",
    "Age = int(input('Enter your age: '))\n",
    "\n",
    "if Age < 18:2\n",
    "    print('You are a minor')\n",
    "elif Age >= 18:\n",
    "    print('You are an adult')\n",
    "else:\n",
    "    print('invalid input')"
   ]
  },
  {
   "cell_type": "code",
   "execution_count": 17,
   "id": "2f2184ef-8ee5-4cdd-ae2c-e3e257532250",
   "metadata": {},
   "outputs": [
    {
     "data": {
      "text/plain": [
       "(18, 'PYTHON PROGRAMMING', 'python programming')"
      ]
     },
     "execution_count": 17,
     "metadata": {},
     "output_type": "execute_result"
    }
   ],
   "source": [
    "#string manipulation\n",
    "word = 'Python Programming'\n",
    "\n",
    "def string_statistics(string):\n",
    "    upperString = string.upper()\n",
    "    lowerString = string.lower()\n",
    "    stringLength = len(string)\n",
    "    stringTuple = (stringLength, upperString, lowerString)\n",
    "    return stringTuple\n",
    "\n",
    "string_statistics(word)"
   ]
  },
  {
   "cell_type": "code",
   "execution_count": null,
   "id": "29d6a904-55e0-469f-a328-f75d0bea2cca",
   "metadata": {},
   "outputs": [],
   "source": []
  }
 ],
 "metadata": {
  "kernelspec": {
   "display_name": "Python 3 (ipykernel)",
   "language": "python",
   "name": "python3"
  },
  "language_info": {
   "codemirror_mode": {
    "name": "ipython",
    "version": 3
   },
   "file_extension": ".py",
   "mimetype": "text/x-python",
   "name": "python",
   "nbconvert_exporter": "python",
   "pygments_lexer": "ipython3",
   "version": "3.11.7"
  },
  "widgets": {
   "application/vnd.jupyter.widget-state+json": {
    "state": {},
    "version_major": 2,
    "version_minor": 0
   }
  }
 },
 "nbformat": 4,
 "nbformat_minor": 5
}
