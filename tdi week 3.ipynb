{
 "cells": [
  {
   "cell_type": "code",
   "execution_count": 2,
   "id": "de314b42-f2f7-44ef-92d1-77c327524733",
   "metadata": {},
   "outputs": [
    {
     "name": "stdout",
     "output_type": "stream",
     "text": [
      "Hello world\n",
      "I am a text file\n",
      "What do you want to know about me?\n"
     ]
    }
   ],
   "source": [
    "#Write a Python script that opens a file in read mode and prints its contents. \n",
    "#You can use any text file for practice\n",
    "import csv\n",
    "\n",
    "with open('Desktop/tdi/python/week 3/practice.txt', 'r') as prac:\n",
    "    print(prac.read())"
   ]
  },
  {
   "cell_type": "code",
   "execution_count": 3,
   "id": "bdaa83fb-737b-46eb-8c6a-795a153209f3",
   "metadata": {},
   "outputs": [],
   "source": [
    "#Create a Python script that writes the string \"Hello, Data Analysis!\" to a new text file.\n",
    "import csv\n",
    "\n",
    "with open('Desktop/tdi/python/week 3/practice2.txt', 'w') as prac2:\n",
    "    prac2.write('Hello, Data Analysis!')"
   ]
  },
  {
   "cell_type": "code",
   "execution_count": 1,
   "id": "2e2746ba-432b-4237-ae83-66c0aa7ebea6",
   "metadata": {},
   "outputs": [
    {
     "name": "stdout",
     "output_type": "stream",
     "text": [
      "['1' '1' 'Allen, Miss. Elisabeth Walton' 'female' '29' '0' '0' '24160'\n",
      " '211.3375' 'B5' 'S' '2' '' 'St Louis, MO']\n",
      "['1' '1' 'Allison, Master. Hudson Trevor' 'male' '0.9167' '1' '2' '113781'\n",
      " '151.55' 'C22 C26' 'S' '11' '' 'Montreal, PQ / Chesterville, ON']\n",
      "['1' '0' 'Allison, Miss. Helen Loraine' 'female' '2' '1' '2' '113781'\n",
      " '151.55' 'C22 C26' 'S' '' '' 'Montreal, PQ / Chesterville, ON']\n",
      "['1' '0' 'Allison, Mr. Hudson Joshua Creighton' 'male' '30' '1' '2'\n",
      " '113781' '151.55' 'C22 C26' 'S' '' '135'\n",
      " 'Montreal, PQ / Chesterville, ON']\n",
      "['1' '0' 'Allison, Mrs. Hudson J C (Bessie Waldo Daniels)' 'female' '25'\n",
      " '1' '2' '113781' '151.55' 'C22 C26' 'S' '' ''\n",
      " 'Montreal, PQ / Chesterville, ON']\n"
     ]
    }
   ],
   "source": [
    "#Use the “csv” module to read the Titanic dataset. Print the first 5 rows of the dataset.\n",
    "\n",
    "import numpy as np\n",
    "import csv\n",
    "\n",
    "with open('Desktop/tdi/python/week 3/titanic.csv', 'r') as titanic:\n",
    "    reader = csv.reader(titanic)\n",
    "    header_row = next(reader)\n",
    "    data = list(reader)\n",
    "\n",
    "titanic_array = np.array(data)\n",
    "\n",
    "column_index = 8\n",
    "empty_strings = titanic_array[:, column_index] == ''\n",
    "\n",
    "titanic_array[empty_strings, column_index] = 0\n",
    "\n",
    "for rows in titanic_array[:5]:\n",
    "    print(rows)"
   ]
  },
  {
   "cell_type": "code",
   "execution_count": 5,
   "id": "c8289380-cb9e-4c71-aca6-ff51cc9f0fda",
   "metadata": {},
   "outputs": [
    {
     "name": "stdout",
     "output_type": "stream",
     "text": [
      "The number of passengers on the titanic is 1309\n"
     ]
    }
   ],
   "source": [
    "#After reading the Titanic CSV file, count the total number of passengers.\n",
    "\n",
    "count_passengers = len(titanic_array)\n",
    "\n",
    "print(f'The number of passengers on the titanic is {count_passengers}')"
   ]
  },
  {
   "cell_type": "code",
   "execution_count": 3,
   "id": "74242baf-04f5-4e22-8173-472be6909f9b",
   "metadata": {},
   "outputs": [
    {
     "name": "stdout",
     "output_type": "stream",
     "text": [
      "The average transport fare = 33.27\n"
     ]
    }
   ],
   "source": [
    "#Write a script that calculates the average fare paid by passengers. Use the Titanic CSV data for this calculation.\n",
    "i = 0\n",
    "sum = 0\n",
    "count = 0\n",
    "while i < 1309:\n",
    "    if titanic_array[i, 8] == '':\n",
    "        pass\n",
    "    else:\n",
    "        count += 1\n",
    "        sum += float(titanic_array[i, 8])\n",
    "        i += 1\n",
    "\n",
    "average_fare = sum / count\n",
    "\n",
    "print(f'The average transport fare = {round(average_fare, 2)}')"
   ]
  },
  {
   "cell_type": "code",
   "execution_count": 4,
   "id": "c5c421d5-82b7-4ef8-9642-15955ac3c51b",
   "metadata": {},
   "outputs": [
    {
     "name": "stdout",
     "output_type": "stream",
     "text": [
      "Passengers class 1 : 200 survivors\n",
      "Passengers class 2 : 119 survivors\n",
      "Passengers class 3 : 181 survivors\n"
     ]
    }
   ],
   "source": [
    "#Write a Python script that calculates the number of survivors per passenger class (1st, 2nd, and 3rd class)\n",
    "\n",
    "passenger_class = np.unique(titanic_array[:, 0])\n",
    "\n",
    "survivor_per_class = {}\n",
    "\n",
    "for pclass in passenger_class:\n",
    "    class_rows = titanic_array[titanic_array[:,0] == pclass]\n",
    "    survivors = np.sum(class_rows[:, 1].astype(int))\n",
    "    survivor_per_class[pclass] = survivors\n",
    "\n",
    "for pclass, survivors in survivor_per_class.items():\n",
    "    print(f'Passengers class {pclass} : {survivors} survivors')"
   ]
  },
  {
   "cell_type": "code",
   "execution_count": 10,
   "id": "a80db2f6-540d-4699-8718-d9ef0a4230b6",
   "metadata": {},
   "outputs": [
    {
     "data": {
      "text/plain": [
       "array([10, 15, 20, 25])"
      ]
     },
     "execution_count": 10,
     "metadata": {},
     "output_type": "execute_result"
    }
   ],
   "source": [
    "#Import the NumPy library and create a 1D array containing the following numbers: “[10, 15, 20, 25]”. Print the array\n",
    "import numpy as np\n",
    "\n",
    "data = [10, 15, 20, 25]\n",
    "\n",
    "np_data = np.array(data)\n",
    "np_data"
   ]
  },
  {
   "cell_type": "code",
   "execution_count": 14,
   "id": "1a75c5c9-13e1-478b-8da9-6fef2973c371",
   "metadata": {},
   "outputs": [
    {
     "data": {
      "text/plain": [
       "array([20, 30, 40, 50])"
      ]
     },
     "execution_count": 14,
     "metadata": {},
     "output_type": "execute_result"
    }
   ],
   "source": [
    "#Multiply each element by 2\n",
    "\n",
    "np_data_multiplied = np_data * 2\n",
    "np_data_multiplied"
   ]
  },
  {
   "cell_type": "code",
   "execution_count": 15,
   "id": "292170f3-6235-4718-9a4f-b83d45c52dda",
   "metadata": {},
   "outputs": [
    {
     "data": {
      "text/plain": [
       "array([ 5, 10, 15, 20])"
      ]
     },
     "execution_count": 15,
     "metadata": {},
     "output_type": "execute_result"
    }
   ],
   "source": [
    "#Subtract 5 from each element.\n",
    "\n",
    "np_data_subtracted = np_data - 5\n",
    "np_data_subtracted"
   ]
  },
  {
   "cell_type": "code",
   "execution_count": 14,
   "id": "08bfc589-5ddd-4b49-a8a9-0517b15dca07",
   "metadata": {},
   "outputs": [
    {
     "data": {
      "text/plain": [
       "array([[1, 2, 3],\n",
       "       [4, 5, 6],\n",
       "       [7, 8, 9]])"
      ]
     },
     "execution_count": 14,
     "metadata": {},
     "output_type": "execute_result"
    }
   ],
   "source": [
    "#Create a 2D NumPy array with shape (3, 3) using the following data: \n",
    "\n",
    "d_data = [[1, 2, 3], [4, 5, 6], [7, 8, 9]]\n",
    "\n",
    "np_2d_data = np.array(d_data)\n",
    "np_2d_data"
   ]
  },
  {
   "cell_type": "code",
   "execution_count": 22,
   "id": "b5a4ed1c-f207-4fd4-88f2-746e9916f2ba",
   "metadata": {},
   "outputs": [
    {
     "name": "stdout",
     "output_type": "stream",
     "text": [
      "The mean fare is 33.27\n"
     ]
    }
   ],
   "source": [
    "# The mean fare\n",
    "\n",
    "mean_fare = np.mean(titanic_array[:,8].astype(float))\n",
    "\n",
    "print(f'The mean fare is {round(mean_fare, 2)}')"
   ]
  },
  {
   "cell_type": "code",
   "execution_count": 25,
   "id": "ab66386f-dcd0-42d1-af69-56e24f0b3bdc",
   "metadata": {},
   "outputs": [
    {
     "name": "stdout",
     "output_type": "stream",
     "text": [
      "The maximum fare is 512.33\n"
     ]
    }
   ],
   "source": [
    "#The maximum fare\n",
    "\n",
    "maximum_fare = np.max(titanic_array[:, 8].astype(float))\n",
    "\n",
    "print(f'The maximum fare is {round(maximum_fare, 2)}')"
   ]
  },
  {
   "cell_type": "code",
   "execution_count": 27,
   "id": "85dedd57-8c39-4ef3-9b29-88b64b48278d",
   "metadata": {},
   "outputs": [
    {
     "name": "stdout",
     "output_type": "stream",
     "text": [
      "The minimum fare is 0.0\n"
     ]
    }
   ],
   "source": [
    "#The minimum fare\n",
    "\n",
    "minimum_fare = np.min(titanic_array[:, 8].astype(float))\n",
    "\n",
    "print(f'The minimum fare is {round(minimum_fare, 2)}')"
   ]
  },
  {
   "cell_type": "code",
   "execution_count": 15,
   "id": "903108be-7763-4ba0-abc9-2e4403741685",
   "metadata": {},
   "outputs": [
    {
     "name": "stdout",
     "output_type": "stream",
     "text": [
      "First Row: [1 2 3]\n",
      "First Column: [1 4 7]\n"
     ]
    }
   ],
   "source": [
    "#Use array indexing to extract the first row and first column of the 2D array created earlier. Print the results.\n",
    "\n",
    "extracted_row_data = np_2d_data[0, :]\n",
    "extracted_column_data = np_2d_data[:, 0]\n",
    "print(f'First Row: {extracted_row_data}')\n",
    "print(f'First Column: {extracted_column_data}')"
   ]
  },
  {
   "cell_type": "code",
   "execution_count": 35,
   "id": "c9462363-7336-4992-a03a-3a63c67f8930",
   "metadata": {},
   "outputs": [
    {
     "name": "stdout",
     "output_type": "stream",
     "text": [
      "The maximum number is 0.98\n"
     ]
    }
   ],
   "source": [
    "#Create a NumPy array with 10 random numbers between 0 and 1. Print the array and find the maximum value\n",
    "i = 0\n",
    "random_num = []\n",
    "while i < 10:\n",
    "    random_num.insert(i, round(np.random.rand(), 2))\n",
    "    i += 1\n",
    "\n",
    "max_number =  np.max(random_num)\n",
    "print(f'The maximum number is {max_number}')"
   ]
  },
  {
   "cell_type": "code",
   "execution_count": 17,
   "id": "15e8ba16-fb5e-4b5f-b68b-f991d5886ac7",
   "metadata": {},
   "outputs": [
    {
     "name": "stdout",
     "output_type": "stream",
     "text": [
      "The percentage of survivors is 38.2%\n"
     ]
    }
   ],
   "source": [
    "#1 Use the Titanic dataset and convert the \"Survived\" column to a NumPy array.\n",
    "#2 Calculate the percentage of passengers who survived\n",
    "\n",
    "survived_column_array = titanic_array[:, 1].astype(int)\n",
    "i = 0\n",
    "survived_count = 0\n",
    "count = 0\n",
    "\n",
    "while i < len(survived_column_array):\n",
    "    if survived_column_array[i] == 1:\n",
    "        survived_count += 1\n",
    "        i += 1\n",
    "    else:\n",
    "        count += 1\n",
    "        i += 1\n",
    "\n",
    "survivors_percentage = (survived_count/(count + survived_count)) * 100\n",
    "\n",
    "print(f'The percentage of survivors is {round(survivors_percentage, 2)}%')"
   ]
  },
  {
   "cell_type": "code",
   "execution_count": null,
   "id": "32aa6b97-515a-4795-8ac3-3870790551a3",
   "metadata": {},
   "outputs": [],
   "source": []
  },
  {
   "cell_type": "code",
   "execution_count": null,
   "id": "02274ac3-ebeb-4061-b27d-54a8046ef52b",
   "metadata": {},
   "outputs": [],
   "source": []
  }
 ],
 "metadata": {
  "kernelspec": {
   "display_name": "Python 3 (ipykernel)",
   "language": "python",
   "name": "python3"
  },
  "language_info": {
   "codemirror_mode": {
    "name": "ipython",
    "version": 3
   },
   "file_extension": ".py",
   "mimetype": "text/x-python",
   "name": "python",
   "nbconvert_exporter": "python",
   "pygments_lexer": "ipython3",
   "version": "3.11.7"
  },
  "widgets": {
   "application/vnd.jupyter.widget-state+json": {
    "state": {},
    "version_major": 2,
    "version_minor": 0
   }
  }
 },
 "nbformat": 4,
 "nbformat_minor": 5
}
