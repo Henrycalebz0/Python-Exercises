{
 "cells": [
  {
   "cell_type": "code",
   "execution_count": 2,
   "id": "4d694c08-28b2-44e2-9b2d-c590278b6ed2",
   "metadata": {},
   "outputs": [
    {
     "name": "stdin",
     "output_type": "stream",
     "text": [
      "Enter your score:  60\n"
     ]
    },
    {
     "name": "stdout",
     "output_type": "stream",
     "text": [
      "Pass\n"
     ]
    }
   ],
   "source": [
    "#check_grade\n",
    "\n",
    "score = int(input(\"Enter your score: \"))\n",
    "\n",
    "if score > 90:\n",
    "    print('Excellent')\n",
    "elif score > 50:\n",
    "    print('Pass')\n",
    "else:\n",
    "    print('Fail')"
   ]
  },
  {
   "cell_type": "code",
   "execution_count": 4,
   "id": "69e58383-e158-4a32-9067-ef2c00798302",
   "metadata": {},
   "outputs": [
    {
     "name": "stdout",
     "output_type": "stream",
     "text": [
      "1\n",
      "4\n",
      "9\n",
      "16\n",
      "25\n",
      "36\n",
      "49\n",
      "64\n",
      "81\n",
      "100\n"
     ]
    }
   ],
   "source": [
    "#Loop to print square of a list of numbers\n",
    "numbers = [1,2,3,4,5,6,7,8,9,10]\n",
    "\n",
    "for i in numbers:\n",
    "    print(i ** 2)"
   ]
  },
  {
   "cell_type": "code",
   "execution_count": 24,
   "id": "6f8ae308-27af-414c-8103-0aab0c14a61d",
   "metadata": {},
   "outputs": [
    {
     "name": "stdout",
     "output_type": "stream",
     "text": [
      "sum = 5050\n"
     ]
    }
   ],
   "source": [
    "#sum numbers using while loop\n",
    "\n",
    "sum = 0\n",
    "number = 1\n",
    "\n",
    "while number < 101:\n",
    "    sum += number\n",
    "    number += 1\n",
    "\n",
    "print(f'sum = {sum}')"
   ]
  },
  {
   "cell_type": "code",
   "execution_count": 48,
   "id": "b84d8b98-bbcc-4ebd-94dc-3bdc6f35028e",
   "metadata": {},
   "outputs": [
    {
     "name": "stdout",
     "output_type": "stream",
     "text": [
      "Highest score is Charlie \n"
     ]
    }
   ],
   "source": [
    "#check for highest score\n",
    "\n",
    "student_scores = {\n",
    "    \"Alice\": 85,\n",
    "    \"Bob\":75,\n",
    "    \"Charlie\":95\n",
    "}\n",
    "\n",
    "def get_top_student(score):\n",
    "    top_student = max(score, key = score.get)\n",
    "    return top_student\n",
    "\n",
    "top_student = get_top_student(student_scores)\n",
    "\n",
    "print(f'Highest score is {top_student} ')\n",
    "    "
   ]
  },
  {
   "cell_type": "code",
   "execution_count": 52,
   "id": "f37c66ac-2ce0-4f5f-ac06-0f8311544560",
   "metadata": {},
   "outputs": [
    {
     "name": "stdout",
     "output_type": "stream",
     "text": [
      "updated_scores: {'Alice': 85, 'Bob': 75, 'Charlie': 95, 'David': 88}\n"
     ]
    }
   ],
   "source": [
    "#Add to the dictionary\n",
    "\n",
    "student_scores = {\n",
    "    \"Alice\": 85,\n",
    "    \"Bob\":75,\n",
    "    \"Charlie\":95\n",
    "}\n",
    "\n",
    "student_scores[\"David\"] = 88\n",
    "\n",
    "print(f'updated_scores: {student_scores}')"
   ]
  },
  {
   "cell_type": "code",
   "execution_count": 59,
   "id": "9fa6ec21-2875-44f5-836d-195b87399ddf",
   "metadata": {},
   "outputs": [
    {
     "name": "stdout",
     "output_type": "stream",
     "text": [
      "Union of set a and b is {1, 2, 3, 4, 5, 6, 7, 8}\n",
      "Intersect of set a and b is {4, 5}\n",
      "Difference between set a and b is {1, 2, 3}\n"
     ]
    }
   ],
   "source": [
    "#set operations\n",
    "\n",
    "set_a = {1, 2, 3, 4, 5}\n",
    "set_b = {4, 5, 6, 7, 8}\n",
    "\n",
    "union = set_a | set_b\n",
    "intersect = set_a & set_b\n",
    "difference = set_a - set_b\n",
    "print(f'Union of set a and b is {union}')\n",
    "print(f'Intersect of set a and b is {intersect}')\n",
    "print(f'Difference between set a and b is {difference}')"
   ]
  },
  {
   "cell_type": "code",
   "execution_count": 63,
   "id": "97fbec85-a079-4f98-a317-e8b60a0d231e",
   "metadata": {},
   "outputs": [
    {
     "name": "stdout",
     "output_type": "stream",
     "text": [
      "The even numbers are [2, 4, 6, 8, 10, 12, 14, 16, 18, 20]\n"
     ]
    }
   ],
   "source": [
    "#List comprehension\n",
    "numbers = list(range(1, 21, 1))\n",
    "\n",
    "even_numbers = [even_num for even_num in numbers if even_num % 2 == 0 ]\n",
    "\n",
    "print(f'The even numbers are {even_numbers}')\n"
   ]
  },
  {
   "cell_type": "code",
   "execution_count": 2,
   "id": "d73edcb8-1d9b-4c3a-9617-65d3c5020b55",
   "metadata": {},
   "outputs": [
    {
     "name": "stdout",
     "output_type": "stream",
     "text": [
      "Average score for Class A is 85.0\n",
      "Average score for Class B is 86.0\n"
     ]
    }
   ],
   "source": [
    "# nested dictionaires\n",
    "\n",
    "class_data = {\n",
    " 'Class A': {'John': 85, 'Jane': 92, 'Tom': 78},\n",
    " 'Class B': {'Alex': 88, 'Chris': 79, 'Emma': 91}\n",
    " }\n",
    "\n",
    "def get_average_score(class_data):\n",
    "    for class_name, student in class_data.items():\n",
    "        if len(student) == 0:\n",
    "             average_score = 0\n",
    "        else:\n",
    "            average_score = sum(student.values()) / len(student)\n",
    "            print(f'Average score for {class_name} is {average_score}')\n",
    "\n",
    "get_average_score(class_data)\n"
   ]
  },
  {
   "cell_type": "code",
   "execution_count": 3,
   "id": "34539058-2893-40bb-8d4d-ecb02b464cca",
   "metadata": {},
   "outputs": [
    {
     "name": "stdout",
     "output_type": "stream",
     "text": [
      "These numbers [3, 6, 9, 12, 15, 18] can be divided by 3\n"
     ]
    }
   ],
   "source": [
    "#divisors\n",
    "\n",
    "numbers = list(range(1, 21, 1))\n",
    "\n",
    "def find_divisble_numbers(num, divisor):\n",
    "    divisible = [num for num in numbers if num % divisor == 0 ]\n",
    "    print(f'These numbers {divisible} can be divided by {divisor}')\n",
    "\n",
    "find_divisble_numbers(numbers, 3)"
   ]
  },
  {
   "cell_type": "code",
   "execution_count": 9,
   "id": "985c7b1a-7aab-4d0a-8a87-a04112c8c23c",
   "metadata": {},
   "outputs": [
    {
     "name": "stdout",
     "output_type": "stream",
     "text": [
      "1\n",
      "2\n",
      "3\n",
      "4\n",
      "5\n",
      "6\n",
      "7\n",
      "8\n",
      "9\n"
     ]
    }
   ],
   "source": [
    "#matrix list\n",
    "\n",
    "matrix = [[1,2,3], [4,5,6], [7,8,9]]\n",
    "\n",
    "for num in matrix:\n",
    "    for value in num:\n",
    "        print(value)\n",
    "    "
   ]
  },
  {
   "cell_type": "code",
   "execution_count": 2,
   "id": "14417539-59da-43ba-baf8-9976394594da",
   "metadata": {},
   "outputs": [
    {
     "name": "stdout",
     "output_type": "stream",
     "text": [
      "{1: 1, 2: 4, 3: 9, 4: 16}\n"
     ]
    }
   ],
   "source": [
    "#dictionary comprehension\n",
    "\n",
    "squared_dictionary = {}\n",
    "\n",
    "for i in range(1,5):\n",
    "    squared_dictionary[i] = i **2\n",
    "\n",
    "print(squared_dictionary)"
   ]
  },
  {
   "cell_type": "code",
   "execution_count": 8,
   "id": "51952c77-23c7-4284-a4dc-b92d5ca98975",
   "metadata": {},
   "outputs": [
    {
     "name": "stdout",
     "output_type": "stream",
     "text": [
      "It exists!\n",
      "{'apple', 'mango', 'orange'}\n"
     ]
    }
   ],
   "source": [
    "#set add, remove, and check\n",
    "\n",
    "fruits = {'apple', 'banana', 'orange'}\n",
    "\n",
    "fruits.add('mango')\n",
    "fruits.remove('banana')\n",
    "\n",
    "if 'apple' in fruits:\n",
    "    print('It exists!')\n",
    "else:\n",
    "    print(\"It doesn't exist\")\n",
    "\n",
    "print(fruits)"
   ]
  },
  {
   "cell_type": "code",
   "execution_count": 12,
   "id": "fc711443-64c2-4cd7-9c15-2df03f2ea3d6",
   "metadata": {},
   "outputs": [
    {
     "name": "stdin",
     "output_type": "stream",
     "text": [
      "enter a number:  20\n"
     ]
    },
    {
     "name": "stdout",
     "output_type": "stream",
     "text": [
      "No multiple found\n",
      "No multiple found\n",
      "No multiple found\n",
      "No multiple found\n",
      "No multiple found\n",
      "No multiple found\n",
      "No multiple found\n",
      "No multiple found\n",
      "No multiple found\n",
      "No multiple found\n",
      "No multiple found\n",
      "No multiple found\n",
      "No multiple found\n",
      "No multiple found\n",
      "15\n",
      "No multiple found\n",
      "No multiple found\n",
      "No multiple found\n",
      "No multiple found\n"
     ]
    }
   ],
   "source": [
    "#for loop with range and break\n",
    "\n",
    "n = int(input('enter a number: '))\n",
    "\n",
    "def find_first_multiple(num):\n",
    "    for num in range(1, n):\n",
    "        if (num % 3 == 0) and (num % 5 == 0):\n",
    "            print(num)\n",
    "        else:\n",
    "            print('No multiple found')\n",
    "            \n",
    "find_first_multiple(n)"
   ]
  },
  {
   "cell_type": "code",
   "execution_count": 17,
   "id": "48f6d579-b3ea-4408-883d-fa51d859f1a6",
   "metadata": {},
   "outputs": [
    {
     "name": "stdout",
     "output_type": "stream",
     "text": [
      "[('Alice', 85), ('Bob', 90), ('Charlie', 78)]\n"
     ]
    }
   ],
   "source": [
    "#using zip with list\n",
    "\n",
    "names = ['Alice', 'Bob', 'Charlie']\n",
    "scores = [85, 90, 78]\n",
    "\n",
    "def zip_list(list1, list2):\n",
    "    zipped_list = zip(list1, list2)\n",
    "    print(list(zipped_list))\n",
    "\n",
    "zip_list(names, scores)"
   ]
  },
  {
   "cell_type": "code",
   "execution_count": 22,
   "id": "88f48cda-09d7-45c2-9b31-726c3c3dd50c",
   "metadata": {},
   "outputs": [
    {
     "name": "stdout",
     "output_type": "stream",
     "text": [
      "{'apple': 3, 'banana': 2, 'orange': 1}\n"
     ]
    }
   ],
   "source": [
    "#counting frequency with dictionary\n",
    "\n",
    "fruits_list = ['apple', 'banana', 'apple', 'orange', 'banana', 'apple']\n",
    "fruits_dict = {}\n",
    "\n",
    "for i, value in enumerate(fruits_list):\n",
    "    if fruits_list[i] == value:\n",
    "        fruits_dict[value] = fruits_list.count(value)\n",
    "\n",
    "print(fruits_dict)"
   ]
  },
  {
   "cell_type": "code",
   "execution_count": 1,
   "id": "c405d030-fea7-41ba-9e21-8e86ac448b4f",
   "metadata": {},
   "outputs": [
    {
     "name": "stdout",
     "output_type": "stream",
     "text": [
      "The union of these sets are {1, 2, 3, 4, 5, 6, 7, 8}\n",
      "The intersect of these sets are set()\n",
      "The symmetric difference of these two sets are {1, 2, 5, 6}\n"
     ]
    }
   ],
   "source": [
    "#set operation with mulitple sets \n",
    "set_1 = {1, 2, 3, 4} \n",
    "set_2 = {3, 4, 5, 6} \n",
    "set_3 = {5, 6, 7, 8}\n",
    "\n",
    "union = set_1 | set_2 | set_3\n",
    "intersect = set_1 & set_2 & set_3\n",
    "symmetric_difference = set_1 ^ set_2 \n",
    "\n",
    "print(f'The union of these sets are {union}')\n",
    "print(f'The intersect of these sets are {intersect}')\n",
    "print(f'The symmetric difference of these two sets are {symmetric_difference}')"
   ]
  },
  {
   "cell_type": "code",
   "execution_count": 46,
   "id": "a6424707-145f-460d-a822-8dafe72ce1ce",
   "metadata": {},
   "outputs": [
    {
     "name": "stdout",
     "output_type": "stream",
     "text": [
      "225\n",
      "The average grade = 75.0\n"
     ]
    }
   ],
   "source": [
    "#handling a list of dictionaries\n",
    "\n",
    "students = [\n",
    "    {'name': 'Frank', 'grade': 90}, \n",
    "    {'name': 'Kevin', 'grade': 75}, \n",
    "    {'name': 'Henry', 'grade': 60}\n",
    "]\n",
    "\n",
    "\n",
    "def average_grade(students):\n",
    "    total_grade = 0\n",
    "    for i, student in enumerate(students):\n",
    "        total_grade += student['grade']\n",
    "        \n",
    "    average_grade = total_grade / len(students)\n",
    "    print(f'The average grade = {average_grade}')\n",
    "       \n",
    "\n",
    "average_grade(students)"
   ]
  },
  {
   "cell_type": "code",
   "execution_count": 57,
   "id": "aa4eaf7f-1d62-44e0-954e-71dda68f1ba4",
   "metadata": {},
   "outputs": [
    {
     "name": "stdin",
     "output_type": "stream",
     "text": [
      "Enter a product:  fish\n"
     ]
    },
    {
     "name": "stdout",
     "output_type": "stream",
     "text": [
      "Product not found\n"
     ]
    }
   ],
   "source": [
    "#dictionary lookup with default values\n",
    "product_input = str(input('Enter a product: '))\n",
    "\n",
    "product_prices = {\n",
    "    'rice': 200,\n",
    "    'pot': 1000,\n",
    "    'spoons': 120,\n",
    "    'oil': 400\n",
    "}\n",
    "\n",
    "def get_price(product_prices):\n",
    "    for product, price in product_prices.items():\n",
    "        if product == product_input:\n",
    "            print(f'The price of {product} is {price}')\n",
    "            break\n",
    "        else: \n",
    "            print('Product not found')\n",
    "            break\n",
    "\n",
    "get_price(product_prices)"
   ]
  },
  {
   "cell_type": "code",
   "execution_count": 63,
   "id": "68eac86c-f410-4fea-8a0c-02fc0b6031eb",
   "metadata": {},
   "outputs": [
    {
     "data": {
      "text/plain": [
       "[10, 8, 7]"
      ]
     },
     "execution_count": 63,
     "metadata": {},
     "output_type": "execute_result"
    }
   ],
   "source": [
    "#List Manipulation with Control Structures \n",
    "\n",
    "numbers = [3, 8, 1, 10, 4, 7]\n",
    "\n",
    "def filter_and_sort(numbers):\n",
    "    new_list = [num for num in numbers if num > 5]\n",
    "    return sorted(new_list, reverse=True)\n",
    "        \n",
    "filter_and_sort(numbers)"
   ]
  },
  {
   "cell_type": "code",
   "execution_count": 8,
   "id": "c7f8d9c4-964d-4ab3-ae76-b934ccb345bf",
   "metadata": {},
   "outputs": [
    {
     "name": "stdout",
     "output_type": "stream",
     "text": [
      "No common elements\n"
     ]
    }
   ],
   "source": [
    "#Set Operations with Conditional Logic\n",
    "numbers = [1, 2, 3, 4, 5, 6, 7, 8, 9, 10]\n",
    "evens = {even for even in numbers if even % 2 == 0}\n",
    "odds = {odd for odd in numbers if odd % 2 != 0}\n",
    "\n",
    "intersect = evens | odds\n",
    "\n",
    "if evens & odds:\n",
    "    print(intersect)\n",
    "else:\n",
    "    print('No common elements')\n"
   ]
  },
  {
   "cell_type": "code",
   "execution_count": null,
   "id": "7a190a8e-9197-485f-8235-04b26f5e4ac9",
   "metadata": {},
   "outputs": [],
   "source": []
  }
 ],
 "metadata": {
  "kernelspec": {
   "display_name": "Python 3 (ipykernel)",
   "language": "python",
   "name": "python3"
  },
  "language_info": {
   "codemirror_mode": {
    "name": "ipython",
    "version": 3
   },
   "file_extension": ".py",
   "mimetype": "text/x-python",
   "name": "python",
   "nbconvert_exporter": "python",
   "pygments_lexer": "ipython3",
   "version": "3.11.7"
  },
  "widgets": {
   "application/vnd.jupyter.widget-state+json": {
    "state": {},
    "version_major": 2,
    "version_minor": 0
   }
  }
 },
 "nbformat": 4,
 "nbformat_minor": 5
}
